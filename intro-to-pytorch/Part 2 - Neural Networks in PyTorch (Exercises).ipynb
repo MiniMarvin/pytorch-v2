{
 "cells": [
  {
   "cell_type": "markdown",
   "metadata": {},
   "source": [
    "# Neural networks with PyTorch\n",
    "\n",
    "Deep learning networks tend to be massive with dozens or hundreds of layers, that's where the term \"deep\" comes from. You can build one of these deep networks using only weight matrices as we did in the previous notebook, but in general it's very cumbersome and difficult to implement. PyTorch has a nice module `nn` that provides a nice way to efficiently build large neural networks."
   ]
  },
  {
   "cell_type": "code",
<<<<<<< HEAD
   "execution_count": 1,
   "metadata": {},
=======
   "execution_count": null,
   "metadata": {
    "collapsed": true
   },
>>>>>>> d3f27324a5099e3714781a2decf255fa43b278e6
   "outputs": [],
   "source": [
    "# Import necessary packages\n",
    "\n",
    "%matplotlib inline\n",
    "%config InlineBackend.figure_format = 'retina'\n",
    "\n",
    "import numpy as np\n",
    "import torch\n",
    "\n",
    "import helper\n",
    "\n",
    "import matplotlib.pyplot as plt"
   ]
  },
  {
   "cell_type": "markdown",
   "metadata": {},
   "source": [
    "\n",
    "Now we're going to build a larger network that can solve a (formerly) difficult problem, identifying text in an image. Here we'll use the MNIST dataset which consists of greyscale handwritten digits. Each image is 28x28 pixels, you can see a sample below\n",
    "\n",
    "<img src='assets/mnist.png'>\n",
    "\n",
    "Our goal is to build a neural network that can take one of these images and predict the digit in the image.\n",
    "\n",
    "First up, we need to get our dataset. This is provided through the `torchvision` package. The code below will download the MNIST dataset, then create training and test datasets for us. Don't worry too much about the details here, you'll learn more about this later."
   ]
  },
  {
   "cell_type": "code",
<<<<<<< HEAD
   "execution_count": 2,
   "metadata": {},
=======
   "execution_count": null,
   "metadata": {
    "collapsed": true
   },
>>>>>>> d3f27324a5099e3714781a2decf255fa43b278e6
   "outputs": [],
   "source": [
    "### Run this cell\n",
    "\n",
    "from torchvision import datasets, transforms\n",
    "\n",
    "# Define a transform to normalize the data\n",
    "transform = transforms.Compose([transforms.ToTensor(),\n",
    "                              transforms.Normalize((0.5,), (0.5,)),\n",
    "                              ])\n",
    "\n",
    "# Download and load the training data\n",
    "trainset = datasets.MNIST('~/.pytorch/MNIST_data/', download=True, train=True, transform=transform)\n",
    "trainloader = torch.utils.data.DataLoader(trainset, batch_size=64, shuffle=True)"
   ]
  },
  {
   "cell_type": "markdown",
   "metadata": {},
   "source": [
    "We have the training data loaded into `trainloader` and we make that an iterator with `iter(trainloader)`. Later, we'll use this to loop through the dataset for training, like\n",
    "\n",
    "```python\n",
    "for image, label in trainloader:\n",
    "    ## do things with images and labels\n",
    "```\n",
    "\n",
    "You'll notice I created the `trainloader` with a batch size of 64, and `shuffle=True`. The batch size is the number of images we get in one iteration from the data loader and pass through our network, often called a *batch*. And `shuffle=True` tells it to shuffle the dataset every time we start going through the data loader again. But here I'm just grabbing the first batch so we can check out the data. We can see below that `images` is just a tensor with size `(64, 1, 28, 28)`. So, 64 images per batch, 1 color channel, and 28x28 images."
   ]
  },
  {
   "cell_type": "code",
<<<<<<< HEAD
   "execution_count": 3,
   "metadata": {},
   "outputs": [
    {
     "name": "stdout",
     "output_type": "stream",
     "text": [
      "<class 'torch.Tensor'>\n",
      "torch.Size([64, 1, 28, 28])\n",
      "torch.Size([64])\n"
     ]
    }
   ],
=======
   "execution_count": null,
   "metadata": {
    "collapsed": true
   },
   "outputs": [],
>>>>>>> d3f27324a5099e3714781a2decf255fa43b278e6
   "source": [
    "dataiter = iter(trainloader)\n",
    "images, labels = dataiter.next()\n",
    "print(type(images))\n",
    "print(images.shape)\n",
    "print(labels.shape)"
   ]
  },
  {
   "cell_type": "markdown",
   "metadata": {},
   "source": [
    "This is what one of the images looks like. "
   ]
  },
  {
   "cell_type": "code",
<<<<<<< HEAD
   "execution_count": 4,
   "metadata": {},
   "outputs": [
    {
     "data": {
      "image/png": "iVBORw0KGgoAAAANSUhEUgAAAfoAAAH0CAYAAADVH+85AAAABHNCSVQICAgIfAhkiAAAAAlwSFlzAAAWJQAAFiUBSVIk8AAAADl0RVh0U29mdHdhcmUAbWF0cGxvdGxpYiB2ZXJzaW9uIDMuMC4xLCBodHRwOi8vbWF0cGxvdGxpYi5vcmcvDW2N/gAAGydJREFUeJzt3X2sbWddJ/DvjxbKUKR0GgFfZlKolBqVl7YKthloaeRljMhLO/QPsREwjqMDRZhIFJz6QkIICpXOgAG0CcSpBhTjWKATKLS1qPFW7BCBgvRSGotQOm2hLWDLM3/sdeF6Oee+nL3vWef+9ueTrKyz11rPWr+7unq+59l7rWfXGCMAQE/3m7sAAODwEfQA0JigB4DGBD0ANCboAaAxQQ8AjQl6AGhM0ANAY4IeABoT9ADQmKAHgMYEPQA0JugBoDFBDwCNCXoAaEzQA0BjR89dwOFQVTcmeUiS3TOXAgBbdWKSO8cYj1xmJy2DPouQ/7fTBABra9a37qvqe6vq96vqn6rqa1W1u6reWFXHL7nr3auoDwBmtnvZHczWo6+qk5Jcm+RhSf4sySeS/EiSlyZ5RlWdOcb40lz1AUAHc/bo/2cWIf+SMcazxxivHGM8NckbkjwmyWtmrA0AWqgxxvYfdNGb/3QWb0mcNMb4xl7rviPJLUkqycPGGHdtYf+7kpy6mmoBYDbXjTFOW2YHc/Xoz57mV+wd8kkyxvhykr9M8qAkT9ruwgCgk7k+o3/MNL9hk/WfSvK0JCcn+cBmO5l67hs5ZeulAUAfc/Xoj5vmd2yyfs/yh25DLQDQ1hH9HP1mn1v4jB4AFubq0e/psR+3yfo9y2/fhloAoK25gv6T0/zkTdY/eppv9hk+AHAQ5gr6K6f506rqX9UwPV53ZpK7k/zVdhcGAJ3MEvRjjH9MckUWA/b/wj6rfz3JsUnesZVn6AGAb5nzZrz/ksUQuL9bVeck+XiSJ2bxjP0NSX51xtoAoIXZhsCdevWnJ7k0i4B/eZKTklyc5EnGuQeA5c36eN0Y43NJfmbOGgCgs1m/phYAOLwEPQA0JugBoDFBDwCNCXoAaEzQA0Bjgh4AGhP0ANCYoAeAxgQ9ADQm6AGgMUEPAI0JegBoTNADQGOCHgAaE/QA0JigB4DGBD0ANCboAaAxQQ8AjQl6AGhM0ANAY4IeABoT9ADQmKAHgMYEPQA0JugBoDFBDwCNCXoAaEzQA0Bjgh4AGhP0ANCYoAeAxgQ9ADQm6AGgMUEPAI0JegBoTNADQGOCHgAaE/QA0JigB4DGBD0ANCboAaAxQQ8AjQl6AGhM0ANAY4IeABoT9ADQmKAHgMYEPQA0JugBoDFBDwCNCXoAaEzQA0Bjgh4AGhP0ANCYoAeAxgQ9ADQm6AGgMUEPAI0JegBoTNADQGOCHgAamy3oq2p3VY1Nps/PVRcAdHL0zMe/I8kbN1j+le0uBAA6mjvobx9jXDRzDQDQls/oAaCxuXv0x1TVTyX590nuSnJ9kqvGGPfNWxYA9DB30D8iyTv2WXZjVf3MGOPDB2pcVbs2WXXK0pUBQANzvnX/B0nOySLsj03yQ0l+L8mJSd5bVY+brzQA6KHGGHPX8K9U1euTvDzJe8YYz9niPnYlOXWlhQHA9rtujHHaMjvYiTfjvWWaP3nWKgCggZ0Y9F+c5sfOWgUANLATg/5J0/wzs1YBAA3MEvRV9f1V9W099qo6Mckl08t3bmdNANDRXI/XPT/Jy6vqqiSfTfLlJCcl+fEkD0xyeZLXz1QbALQxV9BfmeQxSZ6Q5MwsPo+/Pck1WTxX/46x0x4HAIAj0CxBPw2Gc8ABcQCA5ezEm/EAgBUR9ADQmKAHgMYEPQA0JugBoDFBDwCNCXoAaEzQA0Bjgh4AGhP0ANCYoAeAxgQ9ADQm6AGgMUEPAI0JegBobJbvo4eNPP3pT99y2yc84QkrrGR9PPe5z91y29NPP32FlRy6qtpy2zHGUse+4oorttz24osvXurY733ve5dqz/rRoweAxgQ9ADQm6AGgMUEPAI0JegBoTNADQGOCHgAaE/QA0JigB4DGBD0ANCboAaAxQQ8AjQl6AGhM0ANAY7Xs1zXuRFW1K8mpcx3/YQ972FLt/+RP/mTLbb/ne75nqWPP6YQTTthy2wc/+MErrAQOn7vuumup9hdccMGW2y7zu4XZXDfGOG2ZHejRA0Bjgh4AGhP0ANCYoAeAxgQ9ADQm6AGgMUEPAI0JegBoTNADQGOCHgAaE/QA0JigB4DGBD0ANCboAaAxQQ8AjR09dwEdvfCFL1yq/RlnnLGiSjhY99xzz5bbvu51r1vq2K985Su33PaYY45Z6thsv2OPPXap9q9//eu33Nb30a8nPXoAaEzQA0Bjgh4AGhP0ANCYoAeAxgQ9ADQm6AGgMUEPAI0JegBoTNADQGOCHgAaE/QA0JigB4DGBD0ANFZjjLlrWLmq2pXk1LmOf9RRRy3V/uSTT95y20suuWSpYx+prrnmmqXav+Y1r9ly269//etLHfsBD3jAltve737+Vt+Kz33uc0u1P+GEE1ZUyaHbvXv3lts+6lGPWl0hbJfrxhinLbODlfyWqKpzq+pNVXV1Vd1ZVaOq3nmANmdU1eVVdVtV3VNV11fVhVW1XEoCAN909Ir286okj0vylSQ3JzllfxtX1U8meXeSryb5oyS3JfmJJG9IcmaS81ZUFwCstVW97/eyJCcneUiSn9/fhlX1kCRvTXJfkrPGGC8aY/y3JI9P8pEk51bV+SuqCwDW2kqCfoxx5RjjU+PgPvA/N8l3JrlsjPG3e+3jq1m8M5Ac4I8FAODgzHEnz1On+fs2WHdVkruTnFFVx2xfSQDQ0xxB/5hpfsO+K8YY9ya5MYt7B9weCgBLWtXNeIfiuGl+xybr9yx/6IF2ND1Gt5H93gwIAOvCQ7gA0NgcPfo9PfbjNlm/Z/ntB9rRZoMIzD1gDgDsFHP06D85zb9t+LeqOjrJI5Pcm+Qz21kUAHQ0R9B/cJo/Y4N1T07yoCTXjjG+tn0lAUBPcwT9u5LcmuT8qjp9z8KqemCS35pevnmGugCgnZV8Rl9Vz07y7OnlI6b5j1bVpdPPt44xXpEkY4w7q+pnswj8D1XVZVkMgfusLB69e1cWw+ICAEta1c14j09ywT7LHpVvPQv/2SSv2LNijPGeqnpKkl9N8rwkD0zy6SS/lOR3D3KEPQDgAFYS9GOMi5JcdIht/jLJf1zF8QGAjc3xeF17991331LtP/7xj2+57TnnnLPUsdl+y36fPYfOm4asEwPmAEBjgh4AGhP0ANCYoAeAxgQ9ADQm6AGgMUEPAI0JegBoTNADQGOCHgAaE/QA0JigB4DGBD0ANCboAaAxQQ8AjQl6AGhM0ANAY4IeABoT9ADQmKAHgMYEPQA0JugBoDFBDwCNCXoAaEzQA0Bjgh4AGhP0ANCYoAeAxgQ9ADQm6AGgsaPnLgCAg/d3f/d3c5fAEUaPHgAaE/QA0JigB4DGBD0ANCboAaAxQQ8AjQl6AGhM0ANAY4IeABoT9ADQmKAHgMYEPQA0JugBoDFBDwCN+Zpa4Ih0/PHHb7ntUUcdtcJKttfrXve6uUvgCKNHDwCNCXoAaEzQA0Bjgh4AGhP0ANCYoAeAxgQ9ADQm6AGgMUEPAI0JegBoTNADQGOCHgAaE/QA0JigB4DGBD0ANOb76IEj0itf+cott13mu+yXdeONNy7V/qabblpRJayLlfToq+rcqnpTVV1dVXdW1aiqd26y7YnT+s2my1ZREwCwuh79q5I8LslXktyc5JSDaPP3Sd6zwfKPragmAFh7qwr6l2UR8J9O8pQkVx5Em4+OMS5a0fEBgA2sJOjHGN8M9qpaxS4BgBWY82a8766qn0tyQpIvJfnIGOP6GesBgHbmDPofm6ZvqqoPJblgjHFQt5VW1a5NVh3MPQIA0N4cz9HfneQ3k5yW5Php2vO5/llJPlBVx85QFwC0s+09+jHGF5L82j6Lr6qqpyW5JskTk7w4ycUHsa/TNlo+9fRPXbJUADji7ZiR8cYY9yZ52/TyyXPWAgBd7Jign3xxmnvrHgBWYKcF/ZOm+WdmrQIAmtj2oK+qU6vq245bVedkMfBOkmw4fC4AcGhWcjNeVT07ybOnl4+Y5j9aVZdOP986xnjF9PPvJHl0VV2bxWh6SfLYJE+dfn71GOPaVdQFAOtuVXfdPz7JBfsse9Q0Jclnk+wJ+nckeU6SH07yzCT3T/LPSf44ySVjjKtXVBMArL1VDYF7UZKLDnLbtyd5+yqOCwDsn++jBzhEY4wtt33rW9+61LFvueWWpdqzfnbaXfcAwAoJegBoTNADQGOCHgAaE/QA0JigB4DGBD0ANCboAaAxQQ8AjQl6AGhM0ANAY4IeABoT9ADQmKAHgMZqma9b3KmqaleSU+euA9jcgx/84KXaf+pTn9py24c//OFLHfvee+/dctsHPOABSx2btXPdGOO0ZXagRw8AjQl6AGhM0ANAY4IeABoT9ADQmKAHgMYEPQA0JugBoDFBDwCNCXoAaEzQA0Bjgh4AGhP0ANCYoAeAxgQ9ADR29NwFAOvphS984VLtl/1OeVgXevQA0JigB4DGBD0ANCboAaAxQQ8AjQl6AGhM0ANAY4IeABoT9ADQmKAHgMYEPQA0JugBoDFBDwCNCXoAaMzX1AKzeP7znz93CVt2yy23zF0CHDQ9egBoTNADQGOCHgAaE/QA0JigB4DGBD0ANCboAaAxQQ8AjQl6AGhM0ANAY4IeABoT9ADQmKAHgMYEPQA0JugBoDHfRw9syf3vf/9Z2y/jG9/4xlLtX/va166oEjj8lu7RV9UJVfXiqvrTqvp0Vd1TVXdU1TVV9aKq2vAYVXVGVV1eVbdNba6vqgur6qhlawIAFlbRoz8vyZuT3JLkyiQ3JXl4kucmeVuSZ1bVeWOMsadBVf1kkncn+WqSP0pyW5KfSPKGJGdO+wQAlrSKoL8hybOS/MUY45vvh1XVryT5myTPyyL03z0tf0iStya5L8lZY4y/nZa/OskHk5xbVeePMS5bQW0AsNaWfut+jPHBMcaf7x3y0/LPJ3nL9PKsvVadm+Q7k1y2J+Sn7b+a5FXTy59fti4A4PDfdf8v0/zevZY9dZq/b4Ptr0pyd5IzquqYw1kYAKyDw3bXfVUdneSnp5d7h/pjpvkN+7YZY9xbVTcm+YEkj0ry8QMcY9cmq045tGoBoKfD2aN/bZIfTHL5GOP9ey0/bprfsUm7PcsfergKA4B1cVh69FX1kiQvT/KJJC84HMdIkjHGaZscf1eSUw/XcQHgSLHyHn1V/WKSi5P8Q5Kzxxi37bPJnh77cdnYnuW3r7o2AFg3Kw36qrowyZuSfCyLkP/8Bpt9cpqfvEH7o5M8Moub9z6zytoAYB2tLOir6pezGPDmo1mE/Bc22fSD0/wZG6x7cpIHJbl2jPG1VdUGAOtqJUE/DXbz2iS7kpwzxrh1P5u/K8mtSc6vqtP32scDk/zW9PLNq6gLANbd0jfjVdUFSX4ji5Hurk7ykqrad7PdY4xLk2SMcWdV/WwWgf+hqrosiyFwn5XFo3fvymJYXABgSau46/6R0/yoJBduss2Hk1y658UY4z1V9ZQkv5rFELkPTPLpJL+U5Hf3HhcfANi66pipHq+Dw+/8889fqv0f/uEfrqiSQ3fDDd82XtchOeUUY3Kxba7b7FHyg3W4h8AFAGYk6AGgMUEPAI0JegBoTNADQGOCHgAaE/QA0JigB4DGBD0ANCboAaAxQQ8AjQl6AGhM0ANAY4IeABoT9ADQ2NFzFwDM56STTtpy29/+7d9eYSXb6xWveMXcJcC20aMHgMYEPQA0JugBoDFBDwCNCXoAaEzQA0Bjgh4AGhP0ANCYoAeAxgQ9ADQm6AGgMUEPAI0JegBoTNADQGO+phbW2Etf+tItt/2u7/quFVayvT772c/OXQJsGz16AGhM0ANAY4IeABoT9ADQmKAHgMYEPQA0JugBoDFBDwCNCXoAaEzQA0Bjgh4AGhP0ANCYoAeAxgQ9ADQm6AGgMUEPAI0JegBoTNADQGOCHgAaE/QA0JigB4DGBD0ANCboAaAxQQ8AjQl6AGhM0ANAY4IeABoT9ADQmKAHgMYEPQA0JugBoLGlg76qTqiqF1fVn1bVp6vqnqq6o6quqaoXVdX99tn+xKoa+5kuW7YmAGDh6BXs47wkb05yS5Irk9yU5OFJnpvkbUmeWVXnjTHGPu3+Psl7Ntjfx1ZQEwCQ1QT9DUmeleQvxhjf2LOwqn4lyd8keV4Wof/ufdp9dIxx0QqODwBsYum37scYHxxj/PneIT8t/3ySt0wvz1r2OADAoVtFj35//mWa37vBuu+uqp9LckKSLyX5yBjj+sNcDwCslcMW9FV1dJKfnl6+b4NNfmya9m7zoSQXjDFuOlx1AcA6OZw9+tcm+cEkl48x3r/X8ruT/GYWN+J9Zlr22CQXJTk7yQeq6vFjjLsOdICq2rXJqlO2WjQAdHJYnqOvqpckeXmSTyR5wd7rxhhfGGP82hjjujHG7dN0VZKnJfnrJN+X5MWHoy4AWDcr79FX1S8muTjJPyQ5Z4xx28G0G2PcW1VvS/LEJE+e9nGgNqdtUsOuJKcedNEA0NRKe/RVdWGSN2XxLPzZ0533h+KL0/zYVdYFAOtqZUFfVb+c5A1JPppFyH9hC7t50jT/zH63AgAOykqCvqpencXNd7uyeLv+1v1se+q+w+JOy89J8rLp5TtXURcArLulP6OvqguS/EaS+5JcneQlVbXvZrvHGJdOP/9OkkdX1bVJbp6WPTbJU6efXz3GuHbZugCA1dyM98hpflSSCzfZ5sNJLp1+fkeS5yT54STPTHL/JP+c5I+TXDLGuHoFNQEAWUHQT+PVX3QI2789yduXPS4AcGCHewhcgMPi+uu3PmL2zTfffOCNoInDMmAOALAzCHoAaEzQA0Bjgh4AGhP0ANCYoAeAxgQ9ADQm6AGgMUEPAI0JegBoTNADQGOCHgAaE/QA0JigB4DGaowxdw0rV1W7kpw6dx0AsKTrxhinLbMDPXoAaEzQA0Bjgh4AGhP0ANCYoAeAxgQ9ADQm6AGgMUEPAI0JegBoTNADQGOCHgAaE/QA0JigB4DGBD0ANNY16E+cuwAAWIETl93B0SsoYie6c5rv3mT9KdP8E4e/lDacs61x3rbGeTt0ztnW7OTzdmK+lWdbVmOM5Us5wlTVriQZY5w2dy1HCudsa5y3rXHeDp1ztjXrcN66vnUPAETQA0Brgh4AGhP0ANCYoAeAxtbyrnsAWBd69ADQmKAHgMYEPQA0JugBoDFBDwCNCXoAaEzQA0BjaxX0VfW9VfX7VfVPVfW1qtpdVW+squPnrm2nms7R2GT6/Nz1zaWqzq2qN1XV1VV153Q+3nmANmdU1eVVdVtV3VNV11fVhVV11HbVPbdDOW9VdeJ+rr1RVZdtd/1zqKoTqurFVfWnVfXp6dq5o6quqaoXVdWGv8fX/Xo71PPW+Xrr+n3036aqTkpybZKHJfmzLL57+EeSvDTJM6rqzDHGl2YscSe7I8kbN1j+le0uZAd5VZLHZXEObs63vtN6Q1X1k0neneSrSf4oyW1JfiLJG5KcmeS8w1nsDnJI523y90nes8Hyj62wrp3svCRvTnJLkiuT3JTk4Umem+RtSZ5ZVeeNvUY/c70l2cJ5m/S73sYYazEleX+SkeS/7rP8d6blb5m7xp04JdmdZPfcdey0KcnZSR6dpJKcNV1D79xk24ck+UKSryU5fa/lD8zij8+R5Py5/0078LydOK2/dO66Zz5nT80ipO+3z/JHZBFeI8nz9lruetvaeWt7va3FW/dTb/5pWYTW/9hn9X9PcleSF1TVsdtcGkeoMcaVY4xPjek3xAGcm+Q7k1w2xvjbvfbx1Sx6uEny84ehzB3nEM8bScYYHxxj/PkY4xv7LP98krdML8/aa5XrLVs6b22ty1v3Z0/zKzb4j/7lqvrLLP4QeFKSD2x3cUeAY6rqp5L8+yz+KLo+yVVjjPvmLeuI8dRp/r4N1l2V5O4kZ1TVMWOMr21fWUeM766qn0tyQpIvJfnIGOP6mWvaKf5lmt+71zLX24FtdN72aHe9rUvQP2aa37DJ+k9lEfQnR9Bv5BFJ3rHPshur6mfGGB+eo6AjzKbX3xjj3qq6MckPJHlUko9vZ2FHiB+bpm+qqg8luWCMcdMsFe0AVXV0kp+eXu4d6q63/djPeduj3fW2Fm/dJzlumt+xyfo9yx+6DbUcaf4gyTlZhP2xSX4oye9l8XnWe6vqcfOVdsRw/W3N3Ul+M8lpSY6fpqdkcWPVWUk+sOYft702yQ8muXyM8f69lrve9m+z89b2eluXoGeLxhi/Pn3W9c9jjLvHGB8bY/znLG5i/DdJLpq3QroaY3xhjPFrY4zrxhi3T9NVWbz79tdJvi/Ji+etch5V9ZIkL8/i6aEXzFzOEWN/563z9bYuQb/nL9jjNlm/Z/nt21BLF3tuZnnyrFUcGVx/KzTGuDeLx6OSNbz+quoXk1yc5B+SnD3GuG2fTVxvGziI87ahDtfbugT9J6f5yZusf/Q03+wzfL7dF6f5EflW1jbb9PqbPi98ZBY3BX1mO4s6wq3l9VdVFyZ5UxbPdJ893UG+L9fbPg7yvO3PEX29rUvQXznNn7bBaEjfkcUAEncn+avtLuwI9qRpvja/LJbwwWn+jA3WPTnJg5Jcu8Z3QG/F2l1/VfXLWQx489EswuoLm2zqetvLIZy3/Tmir7e1CPoxxj8muSKLG8h+YZ/Vv57FX2nvGGPctc2l7WhV9f0b3XxSVScmuWR6ud9hX0mSvCvJrUnOr6rT9yysqgcm+a3p5ZvnKGwnq6pTNxretarOSfKy6eVaXH9V9eosbiLbleScMcat+9nc9TY5lPPW+XqrdRm3YoMhcD+e5IlZPGN/Q5IzhiFw/5WquiiLG1euSvLZJF9OclKSH89ilK3LkzxnjPH1uWqcS1U9O8mzp5ePSPL0LP7av3padusY4xX7bP+uLIYkvSyLIUmflcWjUO9K8p/WYRCZQzlv0yNNj87i/9ubp/WPzbeeE3/1GGNPcLVVVRckuTTJfVm8/bzR3fS7xxiX7tVm7a+3Qz1vra+3uYfm284pyb/L4nGxW5J8PYvwemOS4+eubSdOWTxa8r+yuEP19iwGmfhikv+TxXOoNXeNM56bi7IYLnOzafcGbc7M4o+j/5fkniT/N4uewlFz/3t24nlL8qIk/zuLES2/ksWQrjdlMXb7f5j737KDztlI8iHX23LnrfP1tjY9egBYR2vxGT0ArCtBDwCNCXoAaEzQA0Bjgh4AGhP0ANCYoAeAxgQ9ADQm6AGgMUEPAI0JegBoTNADQGOCHgAaE/QA0JigB4DGBD0ANCboAaCx/w8TaWSvaD2B9AAAAABJRU5ErkJggg==\n",
      "text/plain": [
       "<Figure size 432x288 with 1 Axes>"
      ]
     },
     "metadata": {
      "image/png": {
       "height": 250,
       "width": 253
      },
      "needs_background": "light"
     },
     "output_type": "display_data"
    }
   ],
=======
   "execution_count": null,
   "metadata": {
    "collapsed": true
   },
   "outputs": [],
>>>>>>> d3f27324a5099e3714781a2decf255fa43b278e6
   "source": [
    "plt.imshow(images[1].numpy().squeeze(), cmap='Greys_r');"
   ]
  },
  {
   "cell_type": "markdown",
   "metadata": {},
   "source": [
    "First, let's try to build a simple network for this dataset using weight matrices and matrix multiplications. Then, we'll see how to do it using PyTorch's `nn` module which provides a much more convenient and powerful method for defining network architectures.\n",
    "\n",
    "The networks you've seen so far are called *fully-connected* or *dense* networks. Each unit in one layer is connected to each unit in the next layer. In fully-connected networks, the input to each layer must be a one-dimensional vector (which can be stacked into a 2D tensor as a batch of multiple examples). However, our images are 28x28 2D tensors, so we need to convert them into 1D vectors. Thinking about sizes, we need to convert the batch of images with shape `(64, 1, 28, 28)` to a have a shape of `(64, 784)`, 784 is 28 times 28. This is typically called *flattening*, we flattened the 2D images into 1D vectors.\n",
    "\n",
    "Previously you built a network with one output unit. Here we need 10 output units, one for each digit. We want our network to predict the digit shown in an image, so what we'll do is calculate probabilities that the image is of any one digit or class. This ends up being a discrete probability distribution over the classes (digits) that tells us the most likely class for the image. That means we need 10 output units for the 10 classes (digits). We'll see how to convert the network output into a probability distribution next.\n",
    "\n",
    "> **Exercise:** Flatten the batch of images `images`. Then build a multi-layer network with 784 input units, 256 hidden units, and 10 output units using random tensors for the weights and biases. For now, use a sigmoid activation for the hidden layer. Leave the output layer without an activation, we'll add one that gives us a probability distribution next."
   ]
  },
  {
   "cell_type": "code",
<<<<<<< HEAD
   "execution_count": 5,
   "metadata": {},
=======
   "execution_count": null,
   "metadata": {
    "collapsed": true
   },
>>>>>>> d3f27324a5099e3714781a2decf255fa43b278e6
   "outputs": [],
   "source": [
    "## Your solution\n",
    "def activation(x):\n",
    "    \"\"\" Sigmoid activation function \n",
    "    \n",
    "        Arguments\n",
    "        ---------\n",
    "        x: torch.Tensor\n",
    "    \"\"\"\n",
    "    return 1/(1+torch.exp(-x))\n",
    "\n",
    "in_size = 784\n",
    "hidden_size = 256\n",
    "out_size = 10\n",
    "torch.manual_seed(7)\n",
    "\n",
    "flat = images.view(64, 784)\n",
    "W1 = torch.randn((in_size, hidden_size))\n",
    "B1 = torch.randn((64,hidden_size))\n",
    "W2 = torch.randn((hidden_size, out_size))\n",
    "B2 = torch.randn((64, out_size))\n",
    "\n",
    "h1 = torch.matmul(flat, W1) + B1\n",
    "h1 = activation(h1)\n",
    "\n",
    "out = torch.matmul(h1, W2) + B2\n",
    "out = activation(out)"
   ]
  },
  {
   "cell_type": "markdown",
   "metadata": {},
   "source": [
    "Now we have 10 outputs for our network. We want to pass in an image to our network and get out a probability distribution over the classes that tells us the likely class(es) the image belongs to. Something that looks like this:\n",
    "<img src='assets/image_distribution.png' width=500px>\n",
    "\n",
    "Here we see that the probability for each class is roughly the same. This is representing an untrained network, it hasn't seen any data yet so it just returns a uniform distribution with equal probabilities for each class.\n",
    "\n",
    "To calculate this probability distribution, we often use the [**softmax** function](https://en.wikipedia.org/wiki/Softmax_function). Mathematically this looks like\n",
    "\n",
    "$$\n",
    "\\Large \\sigma(x_i) = \\cfrac{e^{x_i}}{\\sum_k^K{e^{x_k}}}\n",
    "$$\n",
    "\n",
    "What this does is squish each input $x_i$ between 0 and 1 and normalizes the values to give you a proper probability distribution where the probabilites sum up to one.\n",
    "\n",
    "> **Exercise:** Implement a function `softmax` that performs the softmax calculation and returns probability distributions for each example in the batch. Note that you'll need to pay attention to the shapes when doing this. If you have a tensor `a` with shape `(64, 10)` and a tensor `b` with shape `(64,)`, doing `a/b` will give you an error because PyTorch will try to do the division across the columns (called broadcasting) but you'll get a size mismatch. The way to think about this is for each of the 64 examples, you only want to divide by one value, the sum in the denominator. So you need `b` to have a shape of `(64, 1)`. This way PyTorch will divide the 10 values in each row of `a` by the one value in each row of `b`. Pay attention to how you take the sum as well. You'll need to define the `dim` keyword in `torch.sum`. Setting `dim=0` takes the sum across the rows while `dim=1` takes the sum across the columns."
   ]
  },
  {
   "cell_type": "code",
<<<<<<< HEAD
   "execution_count": 6,
   "metadata": {},
   "outputs": [
    {
     "name": "stdout",
     "output_type": "stream",
     "text": [
      "torch.Size([64, 10])\n",
      "tensor([0.1607, 0.1620, 0.1597, 0.1534, 0.1526, 0.1390, 0.1425, 0.1512, 0.1421,\n",
      "        0.1280, 0.1552, 0.1565, 0.1650, 0.1562, 0.1705, 0.1472, 0.1429, 0.1501,\n",
      "        0.1564, 0.1569, 0.1578, 0.1921, 0.1930, 0.1417, 0.1549, 0.1348, 0.1455,\n",
      "        0.1580, 0.1775, 0.1477, 0.1626, 0.1603, 0.1652, 0.1471, 0.1579, 0.1570,\n",
      "        0.1524, 0.1662, 0.1476, 0.1302, 0.1507, 0.1460, 0.1476, 0.1648, 0.1563,\n",
      "        0.1335, 0.2024, 0.1725, 0.1583, 0.1764, 0.1634, 0.1409, 0.1698, 0.1447,\n",
      "        0.1729, 0.1541, 0.1700, 0.1648, 0.1690, 0.1552, 0.1747, 0.1403, 0.1428,\n",
      "        0.1313])\n"
     ]
    }
   ],
=======
   "execution_count": null,
   "metadata": {
    "collapsed": true
   },
   "outputs": [],
>>>>>>> d3f27324a5099e3714781a2decf255fa43b278e6
   "source": [
    "def softmax(x):\n",
    "    \"\"\"Computes the softmax function\n",
    "    \\sigma(x_i) = \\frac{e^{x_i}}{\\Sigma^{K}_{k}e^{x_k}}\n",
    "    ---------\n",
    "    inputs \n",
    "        x     The value where to compute the softmax\n",
    "    \"\"\"\n",
    "    ## TODO: Implement the softmax function here\n",
    "    a = torch.exp(x)\n",
    "    b = torch.sum(a, dim=0)\n",
    "    return a/b\n",
    "\n",
    "# Here, out should be the output of the network in the previous excercise with shape (64,10)\n",
    "probabilities = softmax(out)\n",
    "\n",
    "# Does it have the right shape? Should be (64, 10)\n",
    "print(probabilities.shape)\n",
    "# Does it sum to 1?\n",
    "print(probabilities.sum(dim=1))"
   ]
  },
  {
   "cell_type": "markdown",
   "metadata": {},
   "source": [
    "## Building networks with PyTorch\n",
    "\n",
    "PyTorch provides a module `nn` that makes building networks much simpler. Here I'll show you how to build the same one as above with 784 inputs, 256 hidden units, 10 output units and a softmax output."
   ]
  },
  {
   "cell_type": "code",
<<<<<<< HEAD
   "execution_count": 7,
   "metadata": {},
=======
   "execution_count": null,
   "metadata": {
    "collapsed": true
   },
>>>>>>> d3f27324a5099e3714781a2decf255fa43b278e6
   "outputs": [],
   "source": [
    "from torch import nn"
   ]
  },
  {
   "cell_type": "code",
<<<<<<< HEAD
   "execution_count": 8,
   "metadata": {},
=======
   "execution_count": null,
   "metadata": {
    "collapsed": true
   },
>>>>>>> d3f27324a5099e3714781a2decf255fa43b278e6
   "outputs": [],
   "source": [
    "class Network(nn.Module):\n",
    "    def __init__(self):\n",
    "        super().__init__()\n",
    "        \n",
    "        # Inputs to hidden layer linear transformation\n",
    "        self.hidden = nn.Linear(784, 256)\n",
    "        # Output layer, 10 units - one for each digit\n",
    "        self.output = nn.Linear(256, 10)\n",
    "        \n",
    "        # Define sigmoid activation and softmax output \n",
    "        self.sigmoid = nn.Sigmoid()\n",
    "        self.softmax = nn.Softmax(dim=1)\n",
    "        \n",
    "    def forward(self, x):\n",
    "        # Pass the input tensor through each of our operations\n",
    "        x = self.hidden(x)\n",
    "        x = self.sigmoid(x)\n",
    "        x = self.output(x)\n",
    "        x = self.softmax(x)\n",
    "        \n",
    "        return x"
   ]
  },
  {
   "cell_type": "markdown",
   "metadata": {},
   "source": [
    "Let's go through this bit by bit.\n",
    "\n",
    "```python\n",
    "class Network(nn.Module):\n",
    "```\n",
    "\n",
    "Here we're inheriting from `nn.Module`. Combined with `super().__init__()` this creates a class that tracks the architecture and provides a lot of useful methods and attributes. It is mandatory to inherit from `nn.Module` when you're creating a class for your network. The name of the class itself can be anything.\n",
    "\n",
    "```python\n",
    "self.hidden = nn.Linear(784, 256)\n",
    "```\n",
    "\n",
    "This line creates a module for a linear transformation, $x\\mathbf{W} + b$, with 784 inputs and 256 outputs and assigns it to `self.hidden`. The module automatically creates the weight and bias tensors which we'll use in the `forward` method. You can access the weight and bias tensors once the network (`net`) is created with `net.hidden.weight` and `net.hidden.bias`.\n",
    "\n",
    "```python\n",
    "self.output = nn.Linear(256, 10)\n",
    "```\n",
    "\n",
    "Similarly, this creates another linear transformation with 256 inputs and 10 outputs.\n",
    "\n",
    "```python\n",
    "self.sigmoid = nn.Sigmoid()\n",
    "self.softmax = nn.Softmax(dim=1)\n",
    "```\n",
    "\n",
    "Here I defined operations for the sigmoid activation and softmax output. Setting `dim=1` in `nn.Softmax(dim=1)` calculates softmax across the columns.\n",
    "\n",
    "```python\n",
    "def forward(self, x):\n",
    "```\n",
    "\n",
    "PyTorch networks created with `nn.Module` must have a `forward` method defined. It takes in a tensor `x` and passes it through the operations you defined in the `__init__` method.\n",
    "\n",
    "```python\n",
    "x = self.hidden(x)\n",
    "x = self.sigmoid(x)\n",
    "x = self.output(x)\n",
    "x = self.softmax(x)\n",
    "```\n",
    "\n",
    "Here the input tensor `x` is passed through each operation and reassigned to `x`. We can see that the input tensor goes through the hidden layer, then a sigmoid function, then the output layer, and finally the softmax function. It doesn't matter what you name the variables here, as long as the inputs and outputs of the operations match the network architecture you want to build. The order in which you define things in the `__init__` method doesn't matter, but you'll need to sequence the operations correctly in the `forward` method.\n",
    "\n",
    "Now we can create a `Network` object."
   ]
  },
  {
   "cell_type": "code",
<<<<<<< HEAD
   "execution_count": 9,
   "metadata": {},
   "outputs": [
    {
     "name": "stdout",
     "output_type": "stream",
     "text": [
      "Network(\n",
      "  (hidden): Linear(in_features=784, out_features=256, bias=True)\n",
      "  (output): Linear(in_features=256, out_features=10, bias=True)\n",
      "  (sigmoid): Sigmoid()\n",
      "  (softmax): Softmax()\n",
      ")\n"
     ]
    }
   ],
=======
   "execution_count": null,
   "metadata": {
    "collapsed": true
   },
   "outputs": [],
>>>>>>> d3f27324a5099e3714781a2decf255fa43b278e6
   "source": [
    "# Create the network and look at it's text representation\n",
    "model = Network()\n",
    "print(model)"
   ]
  },
  {
   "cell_type": "markdown",
   "metadata": {},
   "source": [
    "You can define the network somewhat more concisely and clearly using the `torch.nn.functional` module. This is the most common way you'll see networks defined as many operations are simple element-wise functions. We normally import this module as `F`, `import torch.nn.functional as F`."
   ]
  },
  {
   "cell_type": "code",
<<<<<<< HEAD
   "execution_count": 17,
   "metadata": {},
=======
   "execution_count": null,
   "metadata": {
    "collapsed": true
   },
>>>>>>> d3f27324a5099e3714781a2decf255fa43b278e6
   "outputs": [],
   "source": [
    "import torch.nn.functional as F\n",
    "\n",
    "class Network(nn.Module):\n",
    "    def __init__(self):\n",
    "        super().__init__()\n",
    "        # Inputs to hidden layer linear transformation\n",
    "        self.hidden = nn.Linear(784, 256)\n",
    "        # Output layer, 10 units - one for each digit\n",
    "        self.output = nn.Linear(256, 10)\n",
    "        \n",
    "    def forward(self, x):\n",
    "        # Hidden layer with sigmoid activation\n",
    "        x = nn.sigmoid(self.hidden(x))\n",
    "        # Output layer with softmax activation\n",
    "        x = nn.softmax(self.output(x), dim=1)\n",
    "        \n",
    "        return x"
   ]
  },
  {
   "cell_type": "markdown",
   "metadata": {},
   "source": [
    "### Activation functions\n",
    "\n",
    "So far we've only been looking at the sigmoid activation function, but in general any function can be used as an activation function. The only requirement is that for a network to approximate a non-linear function, the activation functions must be non-linear. Here are a few more examples of common activation functions: Tanh (hyperbolic tangent), and ReLU (rectified linear unit).\n",
    "\n",
    "<img src=\"assets/activation.png\" width=700px>\n",
    "\n",
    "In practice, the ReLU function is used almost exclusively as the activation function for hidden layers."
   ]
  },
  {
   "cell_type": "markdown",
   "metadata": {},
   "source": [
    "### Your Turn to Build a Network\n",
    "\n",
    "<img src=\"assets/mlp_mnist.png\" width=600px>\n",
    "\n",
    "> **Exercise:** Create a network with 784 input units, a hidden layer with 128 units and a ReLU activation, then a hidden layer with 64 units and a ReLU activation, and finally an output layer with a softmax activation as shown above. You can use a ReLU activation with the `nn.ReLU` module or `F.relu` function.\n",
    "\n",
    "It's good practice to name your layers by their type of network, for instance 'fc' to represent a fully-connected layer. As you code your solution, use `fc1`, `fc2`, and `fc3` as your layer names."
   ]
  },
  {
   "cell_type": "code",
   "execution_count": 38,
   "metadata": {
    "collapsed": true,
    "scrolled": true
   },
   "outputs": [],
   "source": [
    "## Your solution here\n",
    "import torch.nn.functional as F\n",
    "\n",
    "class ExampleNet(nn.Module):\n",
    "    def __init__(self):\n",
    "        super().__init__()\n",
    "        self.hidden1 = nn.Linear(784, 128)\n",
    "        self.hidden2 = nn.Linear(128, 64)\n",
    "        self.output = nn.Linear(64, 10)\n",
    "        self.relu = nn.ReLU()\n",
    "        self.softmax = nn.Softmax(dim=1)\n",
    "    \n",
    "    def forward(self, x):\n",
    "        x = self.relu(self.hidden1(x))\n",
    "        x = self.relu(self.hidden2(x))\n",
    "        x = self.softmax(self.output(x))\n",
    "        \n",
    "        return x"
   ]
  },
  {
   "cell_type": "markdown",
   "metadata": {},
   "source": [
    "### Initializing weights and biases\n",
    "\n",
    "The weights and such are automatically initialized for you, but it's possible to customize how they are initialized. The weights and biases are tensors attached to the layer you defined, you can get them with `model.fc1.weight` for instance."
   ]
  },
  {
   "cell_type": "code",
<<<<<<< HEAD
   "execution_count": 39,
   "metadata": {},
   "outputs": [
    {
     "name": "stdout",
     "output_type": "stream",
     "text": [
      "ExampleNet(\n",
      "  (hidden1): Linear(in_features=784, out_features=128, bias=True)\n",
      "  (hidden2): Linear(in_features=128, out_features=64, bias=True)\n",
      "  (output): Linear(in_features=64, out_features=10, bias=True)\n",
      "  (relu): ReLU()\n",
      "  (softmax): Softmax()\n",
      ")\n"
     ]
    }
   ],
=======
   "execution_count": null,
   "metadata": {
    "collapsed": true
   },
   "outputs": [],
>>>>>>> d3f27324a5099e3714781a2decf255fa43b278e6
   "source": [
    "model = ExampleNet()\n",
    "print(model)"
   ]
  },
  {
   "cell_type": "code",
   "execution_count": 40,
   "metadata": {},
   "outputs": [
    {
     "name": "stdout",
     "output_type": "stream",
     "text": [
      "Parameter containing:\n",
      "tensor([[ 0.0347, -0.0143,  0.0200,  ...,  0.0080, -0.0116, -0.0018],\n",
      "        [ 0.0055, -0.0249,  0.0243,  ...,  0.0169,  0.0319,  0.0269],\n",
      "        [ 0.0088, -0.0281, -0.0129,  ...,  0.0166,  0.0313, -0.0133],\n",
      "        ...,\n",
      "        [ 0.0311,  0.0127, -0.0037,  ..., -0.0268, -0.0145, -0.0010],\n",
      "        [ 0.0253,  0.0265,  0.0179,  ...,  0.0006, -0.0065,  0.0171],\n",
      "        [-0.0164, -0.0169,  0.0148,  ..., -0.0297, -0.0252, -0.0156]],\n",
      "       requires_grad=True)\n",
      "Parameter containing:\n",
      "tensor([-0.0054,  0.0335, -0.0336, -0.0223, -0.0337, -0.0265, -0.0254,  0.0295,\n",
      "         0.0168, -0.0227,  0.0112,  0.0019,  0.0022, -0.0072,  0.0010, -0.0334,\n",
      "         0.0317, -0.0151,  0.0305,  0.0093,  0.0110,  0.0021, -0.0343, -0.0036,\n",
      "         0.0207, -0.0046,  0.0291, -0.0252,  0.0185, -0.0005, -0.0238, -0.0078,\n",
      "        -0.0172,  0.0079, -0.0294,  0.0108, -0.0334,  0.0265,  0.0078,  0.0125,\n",
      "         0.0319, -0.0327,  0.0028, -0.0327, -0.0220, -0.0004, -0.0079, -0.0079,\n",
      "        -0.0055,  0.0096, -0.0157,  0.0284, -0.0233,  0.0195,  0.0271, -0.0336,\n",
      "        -0.0138, -0.0336, -0.0228, -0.0258,  0.0155, -0.0296, -0.0102, -0.0087,\n",
      "        -0.0341,  0.0227, -0.0267,  0.0059, -0.0353,  0.0077,  0.0001, -0.0266,\n",
      "         0.0239, -0.0241,  0.0228,  0.0083, -0.0009,  0.0276, -0.0302,  0.0003,\n",
      "         0.0095,  0.0028,  0.0352,  0.0039, -0.0202,  0.0120,  0.0234,  0.0047,\n",
      "         0.0227,  0.0321, -0.0180,  0.0155,  0.0221, -0.0109,  0.0312,  0.0333,\n",
      "        -0.0159, -0.0306, -0.0205,  0.0024,  0.0154, -0.0100, -0.0211, -0.0202,\n",
      "        -0.0193, -0.0132,  0.0163,  0.0293,  0.0202,  0.0294, -0.0049, -0.0186,\n",
      "        -0.0204,  0.0002, -0.0242, -0.0308, -0.0090, -0.0048,  0.0327,  0.0309,\n",
      "        -0.0335,  0.0321,  0.0115,  0.0219,  0.0213, -0.0046, -0.0145, -0.0033],\n",
      "       requires_grad=True)\n"
     ]
    }
   ],
   "source": [
    "print(model.hidden1.weight)\n",
    "print(model.hidden1.bias)"
   ]
  },
  {
   "cell_type": "markdown",
   "metadata": {},
   "source": [
    "For custom initialization, we want to modify these tensors in place. These are actually autograd *Variables*, so we need to get back the actual tensors with `model.fc1.weight.data`. Once we have the tensors, we can fill them with zeros (for biases) or random normal values."
   ]
  },
  {
   "cell_type": "code",
<<<<<<< HEAD
   "execution_count": 41,
   "metadata": {},
   "outputs": [
    {
     "data": {
      "text/plain": [
       "tensor([0., 0., 0., 0., 0., 0., 0., 0., 0., 0., 0., 0., 0., 0., 0., 0., 0., 0.,\n",
       "        0., 0., 0., 0., 0., 0., 0., 0., 0., 0., 0., 0., 0., 0., 0., 0., 0., 0.,\n",
       "        0., 0., 0., 0., 0., 0., 0., 0., 0., 0., 0., 0., 0., 0., 0., 0., 0., 0.,\n",
       "        0., 0., 0., 0., 0., 0., 0., 0., 0., 0., 0., 0., 0., 0., 0., 0., 0., 0.,\n",
       "        0., 0., 0., 0., 0., 0., 0., 0., 0., 0., 0., 0., 0., 0., 0., 0., 0., 0.,\n",
       "        0., 0., 0., 0., 0., 0., 0., 0., 0., 0., 0., 0., 0., 0., 0., 0., 0., 0.,\n",
       "        0., 0., 0., 0., 0., 0., 0., 0., 0., 0., 0., 0., 0., 0., 0., 0., 0., 0.,\n",
       "        0., 0.])"
      ]
     },
     "execution_count": 41,
     "metadata": {},
     "output_type": "execute_result"
    }
   ],
=======
   "execution_count": null,
   "metadata": {
    "collapsed": true
   },
   "outputs": [],
>>>>>>> d3f27324a5099e3714781a2decf255fa43b278e6
   "source": [
    "# Set biases to all zeros\n",
    "model.hidden1.bias.data.fill_(0)\n",
    "# model.fc1.bias.data.fill_(0)"
   ]
  },
  {
   "cell_type": "code",
<<<<<<< HEAD
   "execution_count": 42,
   "metadata": {},
   "outputs": [
    {
     "data": {
      "text/plain": [
       "tensor([[ 0.0035,  0.0045, -0.0019,  ...,  0.0020,  0.0142,  0.0083],\n",
       "        [-0.0142, -0.0099,  0.0139,  ...,  0.0007, -0.0041,  0.0059],\n",
       "        [-0.0016, -0.0095,  0.0102,  ...,  0.0034, -0.0131,  0.0010],\n",
       "        ...,\n",
       "        [-0.0009,  0.0100,  0.0051,  ..., -0.0004, -0.0034,  0.0078],\n",
       "        [ 0.0056,  0.0126,  0.0136,  ...,  0.0005,  0.0090,  0.0042],\n",
       "        [ 0.0078, -0.0034,  0.0096,  ...,  0.0009, -0.0174,  0.0014]])"
      ]
     },
     "execution_count": 42,
     "metadata": {},
     "output_type": "execute_result"
    }
   ],
=======
   "execution_count": null,
   "metadata": {
    "collapsed": true
   },
   "outputs": [],
>>>>>>> d3f27324a5099e3714781a2decf255fa43b278e6
   "source": [
    "# sample from random normal with standard dev = 0.01\n",
    "model.hidden1.weight.data.normal_(std=0.01)\n",
    "# model.fc1.weight.data.normal_(std=0.01)"
   ]
  },
  {
   "cell_type": "markdown",
   "metadata": {},
   "source": [
    "### Forward pass\n",
    "\n",
    "Now that we have a network, let's see what happens when we pass in an image."
   ]
  },
  {
   "cell_type": "code",
<<<<<<< HEAD
   "execution_count": 43,
   "metadata": {},
   "outputs": [
    {
     "data": {
      "image/png": "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\n",
      "text/plain": [
       "<Figure size 432x648 with 2 Axes>"
      ]
     },
     "metadata": {
      "image/png": {
       "height": 226,
       "width": 423
      },
      "needs_background": "light"
     },
     "output_type": "display_data"
    }
   ],
=======
   "execution_count": null,
   "metadata": {
    "collapsed": true
   },
   "outputs": [],
>>>>>>> d3f27324a5099e3714781a2decf255fa43b278e6
   "source": [
    "# Grab some data \n",
    "dataiter = iter(trainloader)\n",
    "images, labels = dataiter.next()\n",
    "\n",
    "# Resize images into a 1D vector, new shape is (batch size, color channels, image pixels) \n",
    "images.resize_(64, 1, 784)\n",
    "# or images.resize_(images.shape[0], 1, 784) to automatically get batch size\n",
    "\n",
    "# Forward pass through the network\n",
    "img_idx = 0\n",
    "ps = model.forward(images[img_idx,:])\n",
    "\n",
    "img = images[img_idx]\n",
    "helper.view_classify(img.view(1, 28, 28), ps)"
   ]
  },
  {
   "cell_type": "markdown",
   "metadata": {},
   "source": [
    "As you can see above, our network has basically no idea what this digit is. It's because we haven't trained it yet, all the weights are random!\n",
    "\n",
    "### Using `nn.Sequential`\n",
    "\n",
    "PyTorch provides a convenient way to build networks like this where a tensor is passed sequentially through operations, `nn.Sequential` ([documentation](https://pytorch.org/docs/master/nn.html#torch.nn.Sequential)). Using this to build the equivalent network:"
   ]
  },
  {
   "cell_type": "code",
<<<<<<< HEAD
   "execution_count": 44,
   "metadata": {},
   "outputs": [
    {
     "name": "stdout",
     "output_type": "stream",
     "text": [
      "Sequential(\n",
      "  (0): Linear(in_features=784, out_features=128, bias=True)\n",
      "  (1): ReLU()\n",
      "  (2): Linear(in_features=128, out_features=64, bias=True)\n",
      "  (3): ReLU()\n",
      "  (4): Linear(in_features=64, out_features=10, bias=True)\n",
      "  (5): Softmax()\n",
      ")\n"
     ]
    },
    {
     "data": {
      "image/png": "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\n",
      "text/plain": [
       "<Figure size 432x648 with 2 Axes>"
      ]
     },
     "metadata": {
      "image/png": {
       "height": 226,
       "width": 423
      },
      "needs_background": "light"
     },
     "output_type": "display_data"
    }
   ],
=======
   "execution_count": null,
   "metadata": {
    "collapsed": true
   },
   "outputs": [],
>>>>>>> d3f27324a5099e3714781a2decf255fa43b278e6
   "source": [
    "# Hyperparameters for our network\n",
    "input_size = 784\n",
    "hidden_sizes = [128, 64]\n",
    "output_size = 10\n",
    "\n",
    "# Build a feed-forward network\n",
    "model = nn.Sequential(nn.Linear(input_size, hidden_sizes[0]),\n",
    "                      nn.ReLU(),\n",
    "                      nn.Linear(hidden_sizes[0], hidden_sizes[1]),\n",
    "                      nn.ReLU(),\n",
    "                      nn.Linear(hidden_sizes[1], output_size),\n",
    "                      nn.Softmax(dim=1))\n",
    "print(model)\n",
    "\n",
    "# Forward pass through the network and display output\n",
    "images, labels = next(iter(trainloader))\n",
    "images.resize_(images.shape[0], 1, 784)\n",
    "ps = model.forward(images[0,:])\n",
    "helper.view_classify(images[0].view(1, 28, 28), ps)"
   ]
  },
  {
   "cell_type": "markdown",
   "metadata": {},
   "source": [
    "Here our model is the same as before: 784 input units, a hidden layer with 128 units, ReLU activation, 64 unit hidden layer, another ReLU, then the output layer with 10 units, and the softmax output.\n",
    "\n",
    "The operations are available by passing in the appropriate index. For example, if you want to get first Linear operation and look at the weights, you'd use `model[0]`."
   ]
  },
  {
   "cell_type": "code",
<<<<<<< HEAD
   "execution_count": 45,
   "metadata": {},
   "outputs": [
    {
     "name": "stdout",
     "output_type": "stream",
     "text": [
      "Linear(in_features=784, out_features=128, bias=True)\n"
     ]
    },
    {
     "data": {
      "text/plain": [
       "Parameter containing:\n",
       "tensor([[-0.0229, -0.0082,  0.0122,  ...,  0.0244,  0.0355, -0.0348],\n",
       "        [-0.0231,  0.0282,  0.0071,  ...,  0.0107, -0.0037,  0.0014],\n",
       "        [ 0.0310, -0.0220, -0.0218,  ..., -0.0112,  0.0181,  0.0270],\n",
       "        ...,\n",
       "        [ 0.0240,  0.0324,  0.0280,  ...,  0.0155, -0.0346, -0.0275],\n",
       "        [ 0.0036,  0.0231, -0.0161,  ...,  0.0067, -0.0081,  0.0267],\n",
       "        [ 0.0127,  0.0212,  0.0278,  ...,  0.0312, -0.0250,  0.0178]],\n",
       "       requires_grad=True)"
      ]
     },
     "execution_count": 45,
     "metadata": {},
     "output_type": "execute_result"
    }
   ],
=======
   "execution_count": null,
   "metadata": {
    "collapsed": true
   },
   "outputs": [],
>>>>>>> d3f27324a5099e3714781a2decf255fa43b278e6
   "source": [
    "print(model[0])\n",
    "model[0].weight"
   ]
  },
  {
   "cell_type": "markdown",
   "metadata": {},
   "source": [
    "You can also pass in an `OrderedDict` to name the individual layers and operations, instead of using incremental integers. Note that dictionary keys must be unique, so _each operation must have a different name_."
   ]
  },
  {
   "cell_type": "code",
<<<<<<< HEAD
   "execution_count": 46,
   "metadata": {},
   "outputs": [
    {
     "data": {
      "text/plain": [
       "Sequential(\n",
       "  (fc1): Linear(in_features=784, out_features=128, bias=True)\n",
       "  (relu1): ReLU()\n",
       "  (fc2): Linear(in_features=128, out_features=64, bias=True)\n",
       "  (relu2): ReLU()\n",
       "  (output): Linear(in_features=64, out_features=10, bias=True)\n",
       "  (softmax): Softmax()\n",
       ")"
      ]
     },
     "execution_count": 46,
     "metadata": {},
     "output_type": "execute_result"
    }
   ],
=======
   "execution_count": null,
   "metadata": {
    "collapsed": true
   },
   "outputs": [],
>>>>>>> d3f27324a5099e3714781a2decf255fa43b278e6
   "source": [
    "from collections import OrderedDict\n",
    "model = nn.Sequential(OrderedDict([\n",
    "                      ('fc1', nn.Linear(input_size, hidden_sizes[0])),\n",
    "                      ('relu1', nn.ReLU()),\n",
    "                      ('fc2', nn.Linear(hidden_sizes[0], hidden_sizes[1])),\n",
    "                      ('relu2', nn.ReLU()),\n",
    "                      ('output', nn.Linear(hidden_sizes[1], output_size)),\n",
    "                      ('softmax', nn.Softmax(dim=1))]))\n",
    "model"
   ]
  },
  {
   "cell_type": "markdown",
   "metadata": {},
   "source": [
    "Now you can access layers either by integer or the name"
   ]
  },
  {
   "cell_type": "code",
<<<<<<< HEAD
   "execution_count": 47,
   "metadata": {},
   "outputs": [
    {
     "name": "stdout",
     "output_type": "stream",
     "text": [
      "Linear(in_features=784, out_features=128, bias=True)\n",
      "Linear(in_features=784, out_features=128, bias=True)\n"
     ]
    }
   ],
=======
   "execution_count": null,
   "metadata": {
    "collapsed": true
   },
   "outputs": [],
>>>>>>> d3f27324a5099e3714781a2decf255fa43b278e6
   "source": [
    "print(model[0])\n",
    "print(model.fc1)"
   ]
  },
  {
   "cell_type": "markdown",
   "metadata": {},
   "source": [
    "In the next notebook, we'll see how we can train a neural network to accuractly predict the numbers appearing in the MNIST images."
   ]
  }
 ],
 "metadata": {
  "kernelspec": {
   "display_name": "Python [default]",
   "language": "python",
   "name": "python3"
  },
  "language_info": {
   "codemirror_mode": {
    "name": "ipython",
    "version": 3
   },
   "file_extension": ".py",
   "mimetype": "text/x-python",
   "name": "python",
   "nbconvert_exporter": "python",
   "pygments_lexer": "ipython3",
<<<<<<< HEAD
   "version": "3.7.1"
=======
   "version": "3.6.4"
>>>>>>> d3f27324a5099e3714781a2decf255fa43b278e6
  }
 },
 "nbformat": 4,
 "nbformat_minor": 2
}
